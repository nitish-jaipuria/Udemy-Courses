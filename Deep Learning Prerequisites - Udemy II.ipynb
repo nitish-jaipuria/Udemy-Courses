{
 "cells": [
  {
   "cell_type": "code",
   "execution_count": 1,
   "metadata": {
    "collapsed": true
   },
   "outputs": [],
   "source": [
    "import numpy as np\n",
    "import pandas as pd\n",
    "import matplotlib.pyplot as plt"
   ]
  },
  {
   "cell_type": "code",
   "execution_count": 2,
   "metadata": {},
   "outputs": [
    {
     "data": {
      "image/png": "[encoded data removed]",
      "text/plain": [
       "<matplotlib.figure.Figure at 0x28be32f6860>"
      ]
     },
     "metadata": {},
     "output_type": "display_data"
    }
   ],
   "source": [
    "# Linear Regression : L2 regularization example\n",
    "\n",
    "N = 50\n",
    "\n",
    "X = np.linspace(0,10,N)\n",
    "\n",
    "Y = 0.5*X + np.random.rand(N)\n",
    "\n",
    "Y[-1] += 30\n",
    "Y[-2] += 30\n",
    "\n",
    "X = np.vstack([np.ones(N),X]).T\n",
    "\n",
    "plt.scatter(X[:,1],Y)\n",
    "\n",
    "w_ml = np.linalg.solve( np.dot(X.T,X) , np.dot(X.T,Y))\n",
    "Yhat = np.dot(X,w_ml)\n",
    "\n",
    "plt.plot(X[:,1],Yhat, color='red')\n",
    "\n",
    "l2 = 1000.0\n",
    "\n",
    "w_map = np.linalg.solve( l2*np.eye(2) + np.dot(X.T,X) , np.dot(X.T,Y) )\n",
    "Yhat = np.dot(X,w_map)\n",
    "\n",
    "plt.plot(X[:,1],Yhat, color='green')\n",
    "plt.show()"
   ]
  },
  {
   "cell_type": "code",
   "execution_count": 3,
   "metadata": {},
   "outputs": [
    {
     "data": {
      "image/png": "[encoded data removed]",
      "text/plain": [
       "<matplotlib.figure.Figure at 0x28be32ba978>"
      ]
     },
     "metadata": {},
     "output_type": "display_data"
    }
   ],
   "source": [
    "# Linear Regression : L1 regularization example\n",
    "\n",
    "N = 50\n",
    "D = 50\n",
    "\n",
    "X = (np.random.random((N,D))-0.5)*10\n",
    "\n",
    "true_w = np.array([1,0.5,-0.5]+[0]*(D-3))\n",
    "\n",
    "Y = np.dot(X,true_w) + np.random.randn(N)*0.5\n",
    "\n",
    "costs = []\n",
    "w = np.random.randn(D)/np.sqrt(D)\n",
    "\n",
    "lr = 0.001\n",
    "l1 = 10\n",
    "\n",
    "for t in range(500):\n",
    "    Yhat = np.dot(X,w)\n",
    "    delta = Yhat - Y\n",
    "    w = w - lr*(X.T.dot(delta) + l1*np.sign(w))\n",
    "    mse = np.dot(delta,delta)/N\n",
    "    costs.append(mse)\n",
    "    \n",
    "# plt.plot(costs)\n",
    "\n",
    "plt.plot(true_w, label = 'true w')\n",
    "plt.plot(w, label = 'predicted')\n",
    "\n",
    "plt.legend()\n",
    "\n",
    "plt.show()"
   ]
  },
  {
   "cell_type": "code",
   "execution_count": 29,
   "metadata": {
    "collapsed": true
   },
   "outputs": [],
   "source": [
    "#### LOGISTIC REGRESSION"
   ]
  },
  {
   "cell_type": "code",
   "execution_count": 4,
   "metadata": {},
   "outputs": [
    {
     "name": "stdout",
     "output_type": "stream",
     "text": [
      "[ 0.49763454  0.26987383  0.8075609   0.83711628  0.87785486  0.89226596\n",
      "  0.74701936  0.22227479  0.94629768  0.35331561  0.55667152  0.64474233\n",
      "  0.8774317   0.42459044  0.62836539  0.58561697  0.42523709  0.28547716\n",
      "  0.90155332  0.21687016  0.47454279  0.85259239  0.74033905  0.86568928\n",
      "  0.25185736  0.55699121  0.08585332  0.74486768  0.97636608  0.47276186\n",
      "  0.17782584  0.9297243   0.71606645  0.49845121  0.38537975  0.17834193\n",
      "  0.54432847  0.55629771  0.9887086   0.61820097  0.69788524  0.68379731\n",
      "  0.66555367  0.39507513  0.07814547  0.87792454  0.86262691  0.60851033\n",
      "  0.43224466  0.82960705  0.76863608  0.65940063  0.59898844  0.90356331\n",
      "  0.32458009  0.9426049   0.11788097  0.46114949  0.73321465  0.83828433\n",
      "  0.27895716  0.9095374   0.76206194  0.66644028  0.94439741  0.5597313\n",
      "  0.41474494  0.70243403  0.79985124  0.51594301  0.93055003  0.43532261\n",
      "  0.46130975  0.54523926  0.23310487  0.8131405   0.91959611  0.85011076\n",
      "  0.9115291   0.16396865  0.42757944  0.53724405  0.78676607  0.398052\n",
      "  0.54308465  0.60974258  0.84751503  0.45120558  0.36657777  0.90563554\n",
      "  0.46332239  0.93243853  0.82774129  0.60645261  0.76718484  0.52697227\n",
      "  0.22557976  0.63949165  0.54831097  0.57284758]\n",
      "(100,)\n"
     ]
    }
   ],
   "source": [
    "N = 100\n",
    "D = 2\n",
    "\n",
    "X = np.random.randn(N,D+1)\n",
    "X[:,2] = 1\n",
    "\n",
    "w = np.random.rand(D+1)\n",
    "\n",
    "z = np.dot(X,w)\n",
    "\n",
    "def sigmoid(x):\n",
    "    return ( 1/(1+np.exp(-x)))\n",
    "\n",
    "print(sigmoid(z))\n",
    "print(z.shape)"
   ]
  },
  {
   "cell_type": "code",
   "execution_count": 5,
   "metadata": {
    "collapsed": true
   },
   "outputs": [],
   "source": [
    "# ecommerce project\n",
    "\n",
    "def get_data():\n",
    "    df = pd.read_csv('F:\\\\DATA SCIENCE\\\\Udemy\\\\Deep Learning Prerequisites\\\\machine_learning_examples-master\\\\ann_logistic_extra\\\\ecommerce_data.csv')\n",
    "    df_mat = df.as_matrix()\n",
    "    X = df_mat[:,:-1]\n",
    "    Y = df_mat[:,-1]\n",
    "    \n",
    "    # Preprocess - normalize\n",
    "    X[:,1] = ( X[:,1] - np.mean(X[:,1]) )/np.std(X[:,1])\n",
    "    X[:,2] = ( X[:,2] - np.mean(X[:,2]) )/np.std(X[:,2])\n",
    "    \n",
    "    N,D = X.shape\n",
    "    X2 = np.zeros((N, D+3))\n",
    "    X2[:,0:(D-1)] = X[:,0:(D-1)]\n",
    "    \n",
    "    for x in range(N):\n",
    "        t = int(X[x,D-1])\n",
    "        X2[x,t+D-1] = 1\n",
    "        \n",
    "    return X2,Y\n",
    "\n",
    "def get_binary_data():\n",
    "    X,Y = get_data()\n",
    "    X2 = X[Y<=1]\n",
    "    Y2 = Y[Y<=1]\n",
    "    \n",
    "    return X2,Y2\n"
   ]
  },
  {
   "cell_type": "code",
   "execution_count": 6,
   "metadata": {},
   "outputs": [
    {
     "data": {
      "text/plain": [
       "0.314070351758794"
      ]
     },
     "execution_count": 6,
     "metadata": {},
     "output_type": "execute_result"
    }
   ],
   "source": [
    "\n",
    "X,Y = get_binary_data()\n",
    "\n",
    "D = X.shape[1]\n",
    "W = np.random.randn(D)\n",
    "b = 0\n",
    "\n",
    "def forward(X,W,b):\n",
    "    return sigmoid( np.dot(X,W) + b )\n",
    "\n",
    "P_Y_given_X = forward(X,W,b)\n",
    "predictions = np.round(P_Y_given_X)\n",
    "\n",
    "def classification_rate(Y,pred):\n",
    "    return np.mean(Y == pred)\n",
    "\n",
    "classification_rate(Y,predictions)"
   ]
  },
  {
   "cell_type": "code",
   "execution_count": 7,
   "metadata": {},
   "outputs": [
    {
     "data": {
      "text/plain": [
       "13.085320317964397"
      ]
     },
     "execution_count": 7,
     "metadata": {},
     "output_type": "execute_result"
    }
   ],
   "source": [
    "N = 100\n",
    "D = 2\n",
    "\n",
    "X = np.random.randn(N,D)\n",
    "\n",
    "X[:50,:] = X[:50,:] - 2*np.ones((50,D))\n",
    "X[50:,:] = X[50:,:] + 2*np.ones((50,D))\n",
    "\n",
    "T = np.array([0]*50 + [1]*50)\n",
    "ones = np.array([[1]*N]).T\n",
    "Xb = np.concatenate((ones,X), axis=1)\n",
    "\n",
    "w = np.random.randn(D+1)\n",
    "z = np.dot(Xb,w)\n",
    "\n",
    "def sigmoid(a):\n",
    "    return 1/(1+np.exp(-a))\n",
    "\n",
    "Y = sigmoid(z)\n",
    "\n",
    "def cross_entropy(t,y):\n",
    "    s = 0\n",
    "    for i in range(N):\n",
    "        if t[i] == 1:\n",
    "            s -= np.log(y[i])\n",
    "        else:\n",
    "            s -= np.log(1-y[i])\n",
    "            \n",
    "    return s\n",
    "\n",
    "cross_entropy(T,Y)"
   ]
  },
  {
   "cell_type": "code",
   "execution_count": 25,
   "metadata": {},
   "outputs": [
    {
     "name": "stdout",
     "output_type": "stream",
     "text": [
      "0 45.4729315522 60.0547285278\n",
      "500 20.5130257956 24.099421554\n",
      "1000 20.0429852982 23.1193567514\n",
      "1500 19.9815490469 22.7997049562\n",
      "2000 20.0322250261 22.7104324224\n",
      "2500 20.0946967769 22.6961568903\n",
      "3000 20.1452982688 22.7035243589\n",
      "3500 20.1819500956 22.7149804106\n",
      "4000 20.2073922892 22.7252490689\n",
      "4500 20.2247266355 22.7331873768\n",
      "5000 20.2364326027 22.7389461736\n",
      "5500 20.2443026424 22.742989829\n",
      "6000 20.2495815329 22.7457774679\n",
      "6500 20.2531180145 22.747678277\n",
      "7000 20.2554856054 22.7489656199\n",
      "7500 20.2570700564 22.7498337429\n",
      "8000 20.2581301866 22.7504175414\n",
      "8500 20.258839417 22.7508094263\n",
      "9000 20.2593138618 22.7510721729\n",
      "9500 20.2596312324 22.7512481978\n",
      "Classification Rate - Train : 0.96644295302\n",
      "Classification Rate - Test : 0.95\n"
     ]
    },
    {
     "data": {
      "image/png": "[encoded data removed]",
      "text/plain": [
       "<matplotlib.figure.Figure at 0x28be3f76208>"
      ]
     },
     "metadata": {},
     "output_type": "display_data"
    }
   ],
   "source": [
    "from sklearn.utils import shuffle\n",
    "\n",
    "X,Y = get_binary_data()\n",
    "X,Y = shuffle(X,Y)\n",
    "\n",
    "Xtrain = X[:-100]\n",
    "Ytrain = Y[:-100]\n",
    "\n",
    "Xtest = X[-100:]\n",
    "Ytest = Y[-100:]\n",
    "\n",
    "D = X.shape[1]\n",
    "W = np.random.randn(D)\n",
    "b = 0\n",
    "\n",
    "def forward(X,W,b):\n",
    "    return sigmoid(np.dot(X,W)+b)\n",
    "\n",
    "train_costs = []\n",
    "test_costs = []\n",
    "learning_rate = 0.001\n",
    "\n",
    "for i in range(10000):\n",
    "    pyTrain = forward(Xtrain,W,b)\n",
    "    pyTest = forward(Xtest,W,b)\n",
    "    \n",
    "    ctrain = cross_entropy(Ytrain,pyTrain)\n",
    "    ctest = cross_entropy(Ytest,pyTest)\n",
    "    \n",
    "    train_costs += [ctrain]\n",
    "    test_costs += [ctest]\n",
    "    \n",
    "    W -= learning_rate*np.dot(Xtrain.T, pyTrain - Ytrain)\n",
    "    b -= learning_rate*np.dot(Xtrain.T, pyTrain - Ytrain).sum()\n",
    "    \n",
    "    if i%500 == 0:\n",
    "        print(i, ctrain, ctest)\n",
    "        \n",
    "print (\"Classification Rate - Train : \" + str(classification_rate(Ytrain, np.round(pyTrain))))\n",
    "print (\"Classification Rate - Test : \" + str(classification_rate(Ytest, np.round(pyTest))))\n",
    "\n",
    "# plot the cost\n",
    "legend1, = plt.plot(train_costs, label = 'train costs')\n",
    "legend2, = plt.plot(test_costs, label = 'test costs')\n",
    "\n",
    "plt.legend([legend1, legend2])\n",
    "plt.show()"
   ]
  },
  {
   "cell_type": "code",
   "execution_count": 26,
   "metadata": {},
   "outputs": [],
   "source": []
  }
 ],
 "metadata": {
  "kernelspec": {
   "display_name": "Python 3",
   "language": "python",
   "name": "python3"
  },
  "language_info": {
   "codemirror_mode": {
    "name": "ipython",
    "version": 3
   },
   "file_extension": ".py",
   "mimetype": "text/x-python",
   "name": "python",
   "nbconvert_exporter": "python",
   "pygments_lexer": "ipython3",
   "version": "3.6.1"
  }
 },
 "nbformat": 4,
 "nbformat_minor": 2
}
